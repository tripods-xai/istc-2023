{
 "cells": [
  {
   "cell_type": "code",
   "execution_count": 1,
   "metadata": {},
   "outputs": [],
   "source": [
    "import math\n",
    "import numpy as np"
   ]
  },
  {
   "cell_type": "code",
   "execution_count": 2,
   "metadata": {},
   "outputs": [],
   "source": [
    "# Estimation for the binary symmetric channel\n",
    "def average_guesses_bsc(p=0.01, n=50):\n",
    "\n",
    "    combos = [math.comb(n, i) for i in range(n+1)]\n",
    "    cumul_combos = np.cumsum(combos, dtype=\"object\")\n",
    "    cumul_combos_sumup = (cumul_combos * (cumul_combos + 1)) // 2\n",
    "    cumul_combos_sumup_diff = np.concatenate([[cumul_combos_sumup[0]], cumul_combos_sumup[1:] - cumul_combos_sumup[:-1]], dtype=\"object\")\n",
    "\n",
    "    probs = np.array([p ** i * (1-p) ** (n-i) for i in range(n+1)], dtype=\"object\")\n",
    "\n",
    "    return np.sum(cumul_combos_sumup_diff * probs, dtype=\"object\")\n",
    "\n",
    "\n",
    "\n",
    "\n"
   ]
  },
  {
   "cell_type": "code",
   "execution_count": 18,
   "metadata": {},
   "outputs": [
    {
     "name": "stdout",
     "output_type": "stream",
     "text": [
      "<class 'pandas.core.frame.DataFrame'>\n",
      "RangeIndex: 273 entries, 0 to 272\n",
      "Data columns (total 3 columns):\n",
      " #   Column    Non-Null Count  Dtype  \n",
      "---  ------    --------------  -----  \n",
      " 0   n         273 non-null    int64  \n",
      " 1   variable  273 non-null    object \n",
      " 2   value     273 non-null    float64\n",
      "dtypes: float64(1), int64(1), object(1)\n",
      "memory usage: 6.5+ KB\n"
     ]
    }
   ],
   "source": [
    "import pandas as pd\n",
    "\n",
    "p_vals = [0.1, 0.01, 0.001]\n",
    "col_names = [f\"p={p}\" for p in p_vals]\n",
    "n_vals = np.arange(101)[10:]\n",
    "res = pd.DataFrame(np.array([[average_guesses_bsc(p, n) for n in n_vals] for p in p_vals], dtype=\"float\").T, columns=[f\"p={p}\" for p in p_vals], index=n_vals)\n",
    "res = res.reset_index()\n",
    "res.columns = [\"n\"] + col_names\n",
    "res = res.melt(id_vars = [\"n\"], value_vars=col_names)\n",
    "res.info()"
   ]
  },
  {
   "cell_type": "code",
   "execution_count": 25,
   "metadata": {},
   "outputs": [
    {
     "data": {
      "text/plain": [
       "[0.5310044064107187, 0.9192068641040888, 0.9885922422625388]"
      ]
     },
     "execution_count": 25,
     "metadata": {},
     "output_type": "execute_result"
    }
   ],
   "source": [
    "def bsc_capacity(p):\n",
    "    return 1 + p * math.log2(p) + (1-p) * math.log2((1-p))\n",
    "\n",
    "[bsc_capacity(p) for p in p_vals]"
   ]
  },
  {
   "cell_type": "code",
   "execution_count": 23,
   "metadata": {},
   "outputs": [
    {
     "data": {
      "text/html": [
       "\n",
       "<div id=\"altair-viz-44aacdb250ce4a0f937a99809b506aa2\"></div>\n",
       "<script type=\"text/javascript\">\n",
       "  var VEGA_DEBUG = (typeof VEGA_DEBUG == \"undefined\") ? {} : VEGA_DEBUG;\n",
       "  (function(spec, embedOpt){\n",
       "    let outputDiv = document.currentScript.previousElementSibling;\n",
       "    if (outputDiv.id !== \"altair-viz-44aacdb250ce4a0f937a99809b506aa2\") {\n",
       "      outputDiv = document.getElementById(\"altair-viz-44aacdb250ce4a0f937a99809b506aa2\");\n",
       "    }\n",
       "    const paths = {\n",
       "      \"vega\": \"https://cdn.jsdelivr.net/npm//vega@5?noext\",\n",
       "      \"vega-lib\": \"https://cdn.jsdelivr.net/npm//vega-lib?noext\",\n",
       "      \"vega-lite\": \"https://cdn.jsdelivr.net/npm//vega-lite@4.17.0?noext\",\n",
       "      \"vega-embed\": \"https://cdn.jsdelivr.net/npm//vega-embed@6?noext\",\n",
       "    };\n",
       "\n",
       "    function maybeLoadScript(lib, version) {\n",
       "      var key = `${lib.replace(\"-\", \"\")}_version`;\n",
       "      return (VEGA_DEBUG[key] == version) ?\n",
       "        Promise.resolve(paths[lib]) :\n",
       "        new Promise(function(resolve, reject) {\n",
       "          var s = document.createElement('script');\n",
       "          document.getElementsByTagName(\"head\")[0].appendChild(s);\n",
       "          s.async = true;\n",
       "          s.onload = () => {\n",
       "            VEGA_DEBUG[key] = version;\n",
       "            return resolve(paths[lib]);\n",
       "          };\n",
       "          s.onerror = () => reject(`Error loading script: ${paths[lib]}`);\n",
       "          s.src = paths[lib];\n",
       "        });\n",
       "    }\n",
       "\n",
       "    function showError(err) {\n",
       "      outputDiv.innerHTML = `<div class=\"error\" style=\"color:red;\">${err}</div>`;\n",
       "      throw err;\n",
       "    }\n",
       "\n",
       "    function displayChart(vegaEmbed) {\n",
       "      vegaEmbed(outputDiv, spec, embedOpt)\n",
       "        .catch(err => showError(`Javascript Error: ${err.message}<br>This usually means there's a typo in your chart specification. See the javascript console for the full traceback.`));\n",
       "    }\n",
       "\n",
       "    if(typeof define === \"function\" && define.amd) {\n",
       "      requirejs.config({paths});\n",
       "      require([\"vega-embed\"], displayChart, err => showError(`Error loading script: ${err.message}`));\n",
       "    } else {\n",
       "      maybeLoadScript(\"vega\", \"5\")\n",
       "        .then(() => maybeLoadScript(\"vega-lite\", \"4.17.0\"))\n",
       "        .then(() => maybeLoadScript(\"vega-embed\", \"6\"))\n",
       "        .catch(showError)\n",
       "        .then(() => displayChart(vegaEmbed));\n",
       "    }\n",
       "  })({\"config\": {\"view\": {\"continuousWidth\": 400, \"continuousHeight\": 300}}, \"data\": {\"name\": \"data-15c11bb2646a43deb032cc5981a81ad8\"}, \"mark\": {\"type\": \"line\", \"point\": true}, \"encoding\": {\"color\": {\"field\": \"variable\", \"type\": \"nominal\"}, \"tooltip\": {\"field\": \"value\", \"type\": \"quantitative\"}, \"x\": {\"field\": \"n\", \"type\": \"ordinal\"}, \"y\": {\"field\": \"value\", \"scale\": {\"type\": \"log\"}, \"type\": \"quantitative\"}}, \"selection\": {\"selector004\": {\"type\": \"interval\", \"bind\": \"scales\", \"encodings\": [\"x\", \"y\"]}}, \"$schema\": \"https://vega.github.io/schema/vega-lite/v4.17.0.json\", \"datasets\": {\"data-15c11bb2646a43deb032cc5981a81ad8\": [{\"n\": 10, \"variable\": \"p=0.1\", \"value\": 20.15464012000001}, {\"n\": 11, \"variable\": \"p=0.1\", \"value\": 30.778896426080014}, {\"n\": 12, \"variable\": \"p=0.1\", \"value\": 47.27854329904003}, {\"n\": 13, \"variable\": \"p=0.1\", \"value\": 72.94468345876643}, {\"n\": 14, \"variable\": \"p=0.1\", \"value\": 112.92894830869602}, {\"n\": 15, \"variable\": \"p=0.1\", \"value\": 175.30246030885607}, {\"n\": 16, \"variable\": \"p=0.1\", \"value\": 272.7207671368877}, {\"n\": 17, \"variable\": \"p=0.1\", \"value\": 425.04299868979933}, {\"n\": 18, \"variable\": \"p=0.1\", \"value\": 663.4543536956245}, {\"n\": 19, \"variable\": \"p=0.1\", \"value\": 1036.958070625391}, {\"n\": 20, \"variable\": \"p=0.1\", \"value\": 1622.6036662456588}, {\"n\": 21, \"variable\": \"p=0.1\", \"value\": 2541.6089933849676}, {\"n\": 22, \"variable\": \"p=0.1\", \"value\": 3984.783118993995}, {\"n\": 23, \"variable\": \"p=0.1\", \"value\": 6252.631799952712}, {\"n\": 24, \"variable\": \"p=0.1\", \"value\": 9818.649392370544}, {\"n\": 25, \"variable\": \"p=0.1\", \"value\": 15429.238250313581}, {\"n\": 26, \"variable\": \"p=0.1\", \"value\": 24261.506422258677}, {\"n\": 27, \"variable\": \"p=0.1\", \"value\": 38172.55109659611}, {\"n\": 28, \"variable\": \"p=0.1\", \"value\": 60093.39069186724}, {\"n\": 29, \"variable\": \"p=0.1\", \"value\": 94651.66375627756}, {\"n\": 30, \"variable\": \"p=0.1\", \"value\": 149156.2242483722}, {\"n\": 31, \"variable\": \"p=0.1\", \"value\": 235154.37884937142}, {\"n\": 32, \"variable\": \"p=0.1\", \"value\": 370895.45234979317}, {\"n\": 33, \"variable\": \"p=0.1\", \"value\": 585229.1373502129}, {\"n\": 34, \"variable\": \"p=0.1\", \"value\": 923775.710331857}, {\"n\": 35, \"variable\": \"p=0.1\", \"value\": 1458694.3222438495}, {\"n\": 36, \"variable\": \"p=0.1\", \"value\": 2304150.899621686}, {\"n\": 37, \"variable\": \"p=0.1\", \"value\": 3640816.3942188676}, {\"n\": 38, \"variable\": \"p=0.1\", \"value\": 5754675.208841093}, {\"n\": 39, \"variable\": \"p=0.1\", \"value\": 9098514.696135659}, {\"n\": 40, \"variable\": \"p=0.1\", \"value\": 14389369.510648448}, {\"n\": 41, \"variable\": \"p=0.1\", \"value\": 22762972.42083675}, {\"n\": 42, \"variable\": \"p=0.1\", \"value\": 36018603.513192385}, {\"n\": 43, \"variable\": \"p=0.1\", \"value\": 57007311.614769064}, {\"n\": 44, \"variable\": \"p=0.1\", \"value\": 90247558.86865996}, {\"n\": 45, \"variable\": \"p=0.1\", \"value\": 142901666.1480303}, {\"n\": 46, \"variable\": \"p=0.1\", \"value\": 226324740.0488512}, {\"n\": 47, \"variable\": \"p=0.1\", \"value\": 358522078.3449949}, {\"n\": 48, \"variable\": \"p=0.1\", \"value\": 568048441.8184166}, {\"n\": 49, \"variable\": \"p=0.1\", \"value\": 900196036.561458}, {\"n\": 50, \"variable\": \"p=0.1\", \"value\": 1426815873.1878817}, {\"n\": 51, \"variable\": \"p=0.1\", \"value\": 2261907881.966471}, {\"n\": 52, \"variable\": \"p=0.1\", \"value\": 3586371216.9051504}, {\"n\": 53, \"variable\": \"p=0.1\", \"value\": 5687301637.649468}, {\"n\": 54, \"variable\": \"p=0.1\", \"value\": 9020393292.988695}, {\"n\": 55, \"variable\": \"p=0.1\", \"value\": 14309039987.979614}, {\"n\": 56, \"variable\": \"p=0.1\", \"value\": 22701736663.533848}, {\"n\": 57, \"variable\": \"p=0.1\", \"value\": 36022104980.285645}, {\"n\": 58, \"variable\": \"p=0.1\", \"value\": 57166089278.83503}, {\"n\": 59, \"variable\": \"p=0.1\", \"value\": 90733013711.13898}, {\"n\": 60, \"variable\": \"p=0.1\", \"value\": 144028291026.89417}, {\"n\": 61, \"variable\": \"p=0.1\", \"value\": 228656812613.20435}, {\"n\": 62, \"variable\": \"p=0.1\", \"value\": 363055214985.1445}, {\"n\": 63, \"variable\": \"p=0.1\", \"value\": 576516599958.932}, {\"n\": 64, \"variable\": \"p=0.1\", \"value\": 915587881933.1803}, {\"n\": 65, \"variable\": \"p=0.1\", \"value\": 1454239323897.8352}, {\"n\": 66, \"variable\": \"p=0.1\", \"value\": 2310031870391.4307}, {\"n\": 67, \"variable\": \"p=0.1\", \"value\": 3669821741733.574}, {\"n\": 68, \"variable\": \"p=0.1\", \"value\": 5830631632780.753}, {\"n\": 69, \"variable\": \"p=0.1\", \"value\": 9264642340217.127}, {\"n\": 70, \"variable\": \"p=0.1\", \"value\": 14722547419125.625}, {\"n\": 71, \"variable\": \"p=0.1\", \"value\": 23397927705984.383}, {\"n\": 72, \"variable\": \"p=0.1\", \"value\": 37188690111363.31}, {\"n\": 73, \"variable\": \"p=0.1\", \"value\": 59112916840832.75}, {\"n\": 74, \"variable\": \"p=0.1\", \"value\": 93970367745738.11}, {\"n\": 75, \"variable\": \"p=0.1\", \"value\": 149394819770135.03}, {\"n\": 76, \"variable\": \"p=0.1\", \"value\": 237528271863546.3}, {\"n\": 77, \"variable\": \"p=0.1\", \"value\": 377684667877607.0}, {\"n\": 78, \"variable\": \"p=0.1\", \"value\": 600588243791897.2}, {\"n\": 79, \"variable\": \"p=0.1\", \"value\": 955117728449800.1}, {\"n\": 80, \"variable\": \"p=0.1\", \"value\": 1519038582554938.8}, {\"n\": 81, \"variable\": \"p=0.1\", \"value\": 2416082513122547.0}, {\"n\": 82, \"variable\": \"p=0.1\", \"value\": 3843129729905423.0}, {\"n\": 83, \"variable\": \"p=0.1\", \"value\": 6113472258050561.0}, {\"n\": 84, \"variable\": \"p=0.1\", \"value\": 9725675649371712.0}, {\"n\": 85, \"variable\": \"p=0.1\", \"value\": 1.5473191244144558e+16}, {\"n\": 86, \"variable\": \"p=0.1\", \"value\": 2.461884325356163e+16}, {\"n\": 87, \"variable\": \"p=0.1\", \"value\": 3.917260159819047e+16}, {\"n\": 88, \"variable\": \"p=0.1\", \"value\": 6.2333801704818024e+16}, {\"n\": 89, \"variable\": \"p=0.1\", \"value\": 9.919520189493002e+16}, {\"n\": 90, \"variable\": \"p=0.1\", \"value\": 1.578639663056111e+17}, {\"n\": 91, \"variable\": \"p=0.1\", \"value\": 2.5124655128452365e+17}, {\"n\": 92, \"variable\": \"p=0.1\", \"value\": 3.998908254147643e+17}, {\"n\": 93, \"variable\": \"p=0.1\", \"value\": 6.365118565820631e+17}, {\"n\": 94, \"variable\": \"p=0.1\", \"value\": 1.0131990910465252e+18}, {\"n\": 95, \"variable\": \"p=0.1\", \"value\": 1.612894073769834e+18}, {\"n\": 96, \"variable\": \"p=0.1\", \"value\": 2.5676699664186895e+18}, {\"n\": 97, \"variable\": \"p=0.1\", \"value\": 4.087844903586801e+18}, {\"n\": 98, \"variable\": \"p=0.1\", \"value\": 6.508352079366506e+18}, {\"n\": 99, \"variable\": \"p=0.1\", \"value\": 1.0362598388258435e+19}, {\"n\": 100, \"variable\": \"p=0.1\", \"value\": 1.6500111781613545e+19}, {\"n\": 10, \"variable\": \"p=0.01\", \"value\": 1.6529474867560545}, {\"n\": 11, \"variable\": \"p=0.01\", \"value\": 1.816781885627869}, {\"n\": 12, \"variable\": \"p=0.01\", \"value\": 2.0104168494010755}, {\"n\": 13, \"variable\": \"p=0.01\", \"value\": 2.2389176240510693}, {\"n\": 14, \"variable\": \"p=0.01\", \"value\": 2.5083076924262606}, {\"n\": 15, \"variable\": \"p=0.01\", \"value\": 2.8257392829406283}, {\"n\": 16, \"variable\": \"p=0.01\", \"value\": 3.1996967490246337}, {\"n\": 17, \"variable\": \"p=0.01\", \"value\": 3.6402387981484843}, {\"n\": 18, \"variable\": \"p=0.01\", \"value\": 4.159286714756949}, {\"n\": 19, \"variable\": \"p=0.01\", \"value\": 4.770967101760541}, {\"n\": 20, \"variable\": \"p=0.01\", \"value\": 5.492019302493942}, {\"n\": 21, \"variable\": \"p=0.01\", \"value\": 6.342279609300568}, {\"n\": 22, \"variable\": \"p=0.01\", \"value\": 7.34525667554158}, {\"n\": 23, \"variable\": \"p=0.01\", \"value\": 8.52881529549494}, {\"n\": 24, \"variable\": \"p=0.01\", \"value\": 9.925988985351921}, {\"n\": 25, \"variable\": \"p=0.01\", \"value\": 11.575945688391972}, {\"n\": 26, \"variable\": \"p=0.01\", \"value\": 13.525135557585195}, {\"n\": 27, \"variable\": \"p=0.01\", \"value\": 15.828655281292372}, {\"n\": 28, \"variable\": \"p=0.01\", \"value\": 18.551869981554585}, {\"n\": 29, \"variable\": \"p=0.01\", \"value\": 21.77234153126863}, {\"n\": 30, \"variable\": \"p=0.01\", \"value\": 25.582121446595483}, {\"n\": 31, \"variable\": \"p=0.01\", \"value\": 30.090477600647095}, {\"n\": 32, \"variable\": \"p=0.01\", \"value\": 35.42713721527289}, {\"n\": 33, \"variable\": \"p=0.01\", \"value\": 41.74614432668296}, {\"n\": 34, \"variable\": \"p=0.01\", \"value\": 49.23044867305419}, {\"n\": 35, \"variable\": \"p=0.01\", \"value\": 58.097365296898374}, {\"n\": 36, \"variable\": \"p=0.01\", \"value\": 68.60507078195718}, {\"n\": 37, \"variable\": \"p=0.01\", \"value\": 81.06033377673488}, {\"n\": 38, \"variable\": \"p=0.01\", \"value\": 95.82771527602}, {\"n\": 39, \"variable\": \"p=0.01\", \"value\": 113.34051920854368}, {\"n\": 40, \"variable\": \"p=0.01\", \"value\": 134.11382760956846}, {\"n\": 41, \"variable\": \"p=0.01\", \"value\": 158.76001870722354}, {\"n\": 42, \"variable\": \"p=0.01\", \"value\": 188.00724260753665}, {\"n\": 43, \"variable\": \"p=0.01\", \"value\": 222.7214202954098}, {\"n\": 44, \"variable\": \"p=0.01\", \"value\": 263.93244020467984}, {\"n\": 45, \"variable\": \"p=0.01\", \"value\": 312.86535602313626}, {\"n\": 46, \"variable\": \"p=0.01\", \"value\": 370.9775437125715}, {\"n\": 47, \"variable\": \"p=0.01\", \"value\": 440.0029597415996}, {\"n\": 48, \"variable\": \"p=0.01\", \"value\": 522.0048619798812}, {\"n\": 49, \"variable\": \"p=0.01\", \"value\": 619.4386164236522}, {\"n\": 50, \"variable\": \"p=0.01\", \"value\": 735.2265250729015}, {\"n\": 51, \"variable\": \"p=0.01\", \"value\": 872.8469825966129}, {\"n\": 52, \"variable\": \"p=0.01\", \"value\": 1036.4407135237857}, {\"n\": 53, \"variable\": \"p=0.01\", \"value\": 1230.937371452072}, {\"n\": 54, \"variable\": \"p=0.01\", \"value\": 1462.206413723876}, {\"n\": 55, \"variable\": \"p=0.01\", \"value\": 1737.2369189364354}, {\"n\": 56, \"variable\": \"p=0.01\", \"value\": 2064.3519141070865}, {\"n\": 57, \"variable\": \"p=0.01\", \"value\": 2453.4638514531516}, {\"n\": 58, \"variable\": \"p=0.01\", \"value\": 2916.3791551649947}, {\"n\": 59, \"variable\": \"p=0.01\", \"value\": 3467.1612863572786}, {\"n\": 60, \"variable\": \"p=0.01\", \"value\": 4122.563597455851}, {\"n\": 61, \"variable\": \"p=0.01\", \"value\": 4902.545422774945}, {\"n\": 62, \"variable\": \"p=0.01\", \"value\": 5830.8874482016845}, {\"n\": 63, \"variable\": \"p=0.01\", \"value\": 6935.925501205626}, {\"n\": 64, \"variable\": \"p=0.01\", \"value\": 8251.425600104916}, {\"n\": 65, \"variable\": \"p=0.01\", \"value\": 9817.62751479444}, {\"n\": 66, \"variable\": \"p=0.01\", \"value\": 11682.489358656774}, {\"n\": 67, \"variable\": \"p=0.01\", \"value\": 13903.172018732286}, {\"n\": 68, \"variable\": \"p=0.01\", \"value\": 16547.809736161027}, {\"n\": 69, \"variable\": \"p=0.01\", \"value\": 19697.622107561612}, {\"n\": 70, \"variable\": \"p=0.01\", \"value\": 23449.43347236833}, {\"n\": 71, \"variable\": \"p=0.01\", \"value\": 27918.678417966188}, {\"n\": 72, \"variable\": \"p=0.01\", \"value\": 33242.98737592236}, {\"n\": 73, \"variable\": \"p=0.01\", \"value\": 39586.46447903089}, {\"n\": 74, \"variable\": \"p=0.01\", \"value\": 47144.79157392939}, {\"n\": 75, \"variable\": \"p=0.01\", \"value\": 56151.31822287629}, {\"n\": 76, \"variable\": \"p=0.01\", \"value\": 66884.32849925857}, {\"n\": 77, \"variable\": \"p=0.01\", \"value\": 79675.71236201568}, {\"n\": 78, \"variable\": \"p=0.01\", \"value\": 94921.31355199312}, {\"n\": 79, \"variable\": \"p=0.01\", \"value\": 113093.27868294861}, {\"n\": 80, \"variable\": \"p=0.01\", \"value\": 134754.79516751593}, {\"n\": 81, \"variable\": \"p=0.01\", \"value\": 160577.680814019}, {\"n\": 82, \"variable\": \"p=0.01\", \"value\": 191363.3777310377}, {\"n\": 83, \"variable\": \"p=0.01\", \"value\": 228068.01042318993}, {\"n\": 84, \"variable\": \"p=0.01\", \"value\": 271832.29604671185}, {\"n\": 85, \"variable\": \"p=0.01\", \"value\": 324017.2477706755}, {\"n\": 86, \"variable\": \"p=0.01\", \"value\": 386246.79490198713}, {\"n\": 87, \"variable\": \"p=0.01\", \"value\": 460458.6616657415}, {\"n\": 88, \"variable\": \"p=0.01\", \"value\": 548965.1072001448}, {\"n\": 89, \"variable\": \"p=0.01\", \"value\": 654525.4406868833}, {\"n\": 90, \"variable\": \"p=0.01\", \"value\": 780432.5974626472}, {\"n\": 91, \"variable\": \"p=0.01\", \"value\": 930616.50623782}, {\"n\": 92, \"variable\": \"p=0.01\", \"value\": 1109767.5082746353}, {\"n\": 93, \"variable\": \"p=0.01\", \"value\": 1323483.723386467}, {\"n\": 94, \"variable\": \"p=0.01\", \"value\": 1578447.0150317384}, {\"n\": 95, \"variable\": \"p=0.01\", \"value\": 1882633.1116323825}, {\"n\": 96, \"variable\": \"p=0.01\", \"value\": 2245562.52227826}, {\"n\": 97, \"variable\": \"p=0.01\", \"value\": 2678600.1765189595}, {\"n\": 98, \"variable\": \"p=0.01\", \"value\": 3195313.261023326}, {\"n\": 99, \"variable\": \"p=0.01\", \"value\": 3811898.5695394264}, {\"n\": 100, \"variable\": \"p=0.01\", \"value\": 4547692.885414374}, {\"n\": 10, \"variable\": \"p=0.001\", \"value\": 1.0559939588353047}, {\"n\": 11, \"variable\": \"p=0.001\", \"value\": 1.0674932534372876}, {\"n\": 12, \"variable\": \"p=0.001\", \"value\": 1.0801607492432}, {\"n\": 13, \"variable\": \"p=0.001\", \"value\": 1.0940310879517243}, {\"n\": 14, \"variable\": \"p=0.001\", \"value\": 1.1091424700172678}, {\"n\": 15, \"variable\": \"p=0.001\", \"value\": 1.1255367703043553}, {\"n\": 16, \"variable\": \"p=0.001\", \"value\": 1.1432596656890552}, {\"n\": 17, \"variable\": \"p=0.001\", \"value\": 1.1623607750124727}, {\"n\": 18, \"variable\": \"p=0.001\", \"value\": 1.1828938118332724}, {\"n\": 19, \"variable\": \"p=0.001\", \"value\": 1.2049167504696685}, {\"n\": 20, \"variable\": \"p=0.001\", \"value\": 1.228492005866343}, {\"n\": 21, \"variable\": \"p=0.001\", \"value\": 1.253686627868548}, {\"n\": 22, \"variable\": \"p=0.001\", \"value\": 1.280572510534428}, {\"n\": 23, \"variable\": \"p=0.001\", \"value\": 1.3092266171673952}, {\"n\": 24, \"variable\": \"p=0.001\", \"value\": 1.3397312218035151}, {\"n\": 25, \"variable\": \"p=0.001\", \"value\": 1.372174167944444}, {\"n\": 26, \"variable\": \"p=0.001\", \"value\": 1.4066491453846506}, {\"n\": 27, \"variable\": \"p=0.001\", \"value\": 1.4432559860427567}, {\"n\": 28, \"variable\": \"p=0.001\", \"value\": 1.482100979770946}, {\"n\": 29, \"variable\": \"p=0.001\", \"value\": 1.5232972111838192}, {\"n\": 30, \"variable\": \"p=0.001\", \"value\": 1.5669649186190047}, {\"n\": 31, \"variable\": \"p=0.001\", \"value\": 1.6132318764165432}, {\"n\": 32, \"variable\": \"p=0.001\", \"value\": 1.6622338017827694}, {\"n\": 33, \"variable\": \"p=0.001\", \"value\": 1.7141147875874374}, {\"n\": 34, \"variable\": \"p=0.001\", \"value\": 1.769027762530417}, {\"n\": 35, \"variable\": \"p=0.001\", \"value\": 1.8271349802067518}, {\"n\": 36, \"variable\": \"p=0.001\", \"value\": 1.8886085386965554}, {\"n\": 37, \"variable\": \"p=0.001\", \"value\": 1.9536309324093954}, {\"n\": 38, \"variable\": \"p=0.001\", \"value\": 2.022395638021937}, {\"n\": 39, \"variable\": \"p=0.001\", \"value\": 2.0951077364629613}, {\"n\": 40, \"variable\": \"p=0.001\", \"value\": 2.17198457302191}, {\"n\": 41, \"variable\": \"p=0.001\", \"value\": 2.2532564577862235}, {\"n\": 42, \"variable\": \"p=0.001\", \"value\": 2.339167408749386}, {\"n\": 43, \"variable\": \"p=0.001\", \"value\": 2.4299759400762513}, {\"n\": 44, \"variable\": \"p=0.001\", \"value\": 2.5259558981653614}, {\"n\": 45, \"variable\": \"p=0.001\", \"value\": 2.6273973483102155}, {\"n\": 46, \"variable\": \"p=0.001\", \"value\": 2.7346075149331406}, {\"n\": 47, \"variable\": \"p=0.001\", \"value\": 2.8479117785475077}, {\"n\": 48, \"variable\": \"p=0.001\", \"value\": 2.967654732796724}, {\"n\": 49, \"variable\": \"p=0.001\", \"value\": 3.094201305122785}, {\"n\": 50, \"variable\": \"p=0.001\", \"value\": 3.2279379448335814}, {\"n\": 51, \"variable\": \"p=0.001\", \"value\": 3.36927388256762}, {\"n\": 52, \"variable\": \"p=0.001\", \"value\": 3.5186424653979116}, {\"n\": 53, \"variable\": \"p=0.001\", \"value\": 3.6765025720745337}, {\"n\": 54, \"variable\": \"p=0.001\", \"value\": 3.843340113178554}, {\"n\": 55, \"variable\": \"p=0.001\", \"value\": 4.019669621249598}, {\"n\": 56, \"variable\": \"p=0.001\", \"value\": 4.2060359362564}, {\"n\": 57, \"variable\": \"p=0.001\", \"value\": 4.4030159921051615}, {\"n\": 58, \"variable\": \"p=0.001\", \"value\": 4.611220710225678}, {\"n\": 59, \"variable\": \"p=0.001\", \"value\": 4.831297006641175}, {\"n\": 60, \"variable\": \"p=0.001\", \"value\": 5.063929919315732}, {\"n\": 61, \"variable\": \"p=0.001\", \"value\": 5.3098448629847095}, {\"n\": 62, \"variable\": \"p=0.001\", \"value\": 5.569810019109926}, {\"n\": 63, \"variable\": \"p=0.001\", \"value\": 5.844638869063894}, {\"n\": 64, \"variable\": \"p=0.001\", \"value\": 6.135192879138265}, {\"n\": 65, \"variable\": \"p=0.001\", \"value\": 6.442384346491891}, {\"n\": 66, \"variable\": \"p=0.001\", \"value\": 6.767179415705838}, {\"n\": 67, \"variable\": \"p=0.001\", \"value\": 7.110601276197947}, {\"n\": 68, \"variable\": \"p=0.001\", \"value\": 7.4737335513703185}, {\"n\": 69, \"variable\": \"p=0.001\", \"value\": 7.857723891021432}, {\"n\": 70, \"variable\": \"p=0.001\", \"value\": 8.26378777925298}, {\"n\": 71, \"variable\": \"p=0.001\", \"value\": 8.693212570842002}, {\"n\": 72, \"variable\": \"p=0.001\", \"value\": 9.147361769834617}, {\"n\": 73, \"variable\": \"p=0.001\", \"value\": 9.627679564950764}, {\"n\": 74, \"variable\": \"p=0.001\", \"value\": 10.135695637273258}, {\"n\": 75, \"variable\": \"p=0.001\", \"value\": 10.673030256631874}, {\"n\": 76, \"variable\": \"p=0.001\", \"value\": 11.24139968408755}, {\"n\": 77, \"variable\": \"p=0.001\", \"value\": 11.842621898976727}, {\"n\": 78, \"variable\": \"p=0.001\", \"value\": 12.47862267009452}, {\"n\": 79, \"variable\": \"p=0.001\", \"value\": 13.151441991782466}, {\"n\": 80, \"variable\": \"p=0.001\", \"value\": 13.863240906945515}, {\"n\": 81, \"variable\": \"p=0.001\", \"value\": 14.61630874035843}, {\"n\": 82, \"variable\": \"p=0.001\", \"value\": 15.413070767038738}, {\"n\": 83, \"variable\": \"p=0.001\", \"value\": 16.256096341965968}, {\"n\": 84, \"variable\": \"p=0.001\", \"value\": 17.14810751902163}, {\"n\": 85, \"variable\": \"p=0.001\", \"value\": 18.09198818871536}, {\"n\": 86, \"variable\": \"p=0.001\", \"value\": 19.090793766057253}, {\"n\": 87, \"variable\": \"p=0.001\", \"value\": 20.14776146183971}, {\"n\": 88, \"variable\": \"p=0.001\", \"value\": 21.266321172611413}, {\"n\": 89, \"variable\": \"p=0.001\", \"value\": 22.45010702676853}, {\"n\": 90, \"variable\": \"p=0.001\", \"value\": 23.70296962646084}, {\"n\": 91, \"variable\": \"p=0.001\", \"value\": 25.02898902742158}, {\"n\": 92, \"variable\": \"p=0.001\", \"value\": 26.4324885013881}, {\"n\": 93, \"variable\": \"p=0.001\", \"value\": 27.91804912849394}, {\"n\": 94, \"variable\": \"p=0.001\", \"value\": 29.49052526989252}, {\"n\": 95, \"variable\": \"p=0.001\", \"value\": 31.155060973927107}, {\"n\": 96, \"variable\": \"p=0.001\", \"value\": 32.91710737240276}, {\"n\": 97, \"variable\": \"p=0.001\", \"value\": 34.78244112695426}, {\"n\": 98, \"variable\": \"p=0.001\", \"value\": 36.7571839891526}, {\"n\": 99, \"variable\": \"p=0.001\", \"value\": 38.84782354186242}, {\"n\": 100, \"variable\": \"p=0.001\", \"value\": 41.06123519347011}]}}, {\"mode\": \"vega-lite\"});\n",
       "</script>"
      ],
      "text/plain": [
       "alt.Chart(...)"
      ]
     },
     "execution_count": 23,
     "metadata": {},
     "output_type": "execute_result"
    }
   ],
   "source": [
    "import altair as alt\n",
    "\n",
    "\n",
    "alt.Chart(res).mark_line(point=True).encode(\n",
    "    x='n:O',\n",
    "    y=alt.Y(\n",
    "        'value:Q',\n",
    "        scale=alt.Scale(type=\"log\")  # Here the scale is applied\n",
    "    ),\n",
    "    color=\"variable:N\",\n",
    "    tooltip=\"value:Q\"\n",
    ").interactive()\n"
   ]
  },
  {
   "cell_type": "code",
   "execution_count": 15,
   "metadata": {},
   "outputs": [
    {
     "data": {
      "text/html": [
       "<div>\n",
       "<style scoped>\n",
       "    .dataframe tbody tr th:only-of-type {\n",
       "        vertical-align: middle;\n",
       "    }\n",
       "\n",
       "    .dataframe tbody tr th {\n",
       "        vertical-align: top;\n",
       "    }\n",
       "\n",
       "    .dataframe thead th {\n",
       "        text-align: right;\n",
       "    }\n",
       "</style>\n",
       "<table border=\"1\" class=\"dataframe\">\n",
       "  <thead>\n",
       "    <tr style=\"text-align: right;\">\n",
       "      <th></th>\n",
       "      <th>year</th>\n",
       "      <th>age</th>\n",
       "      <th>sex</th>\n",
       "      <th>people</th>\n",
       "    </tr>\n",
       "  </thead>\n",
       "  <tbody>\n",
       "    <tr>\n",
       "      <th>0</th>\n",
       "      <td>1850</td>\n",
       "      <td>0</td>\n",
       "      <td>1</td>\n",
       "      <td>1483789</td>\n",
       "    </tr>\n",
       "    <tr>\n",
       "      <th>1</th>\n",
       "      <td>1850</td>\n",
       "      <td>0</td>\n",
       "      <td>2</td>\n",
       "      <td>1450376</td>\n",
       "    </tr>\n",
       "    <tr>\n",
       "      <th>2</th>\n",
       "      <td>1850</td>\n",
       "      <td>5</td>\n",
       "      <td>1</td>\n",
       "      <td>1411067</td>\n",
       "    </tr>\n",
       "    <tr>\n",
       "      <th>3</th>\n",
       "      <td>1850</td>\n",
       "      <td>5</td>\n",
       "      <td>2</td>\n",
       "      <td>1359668</td>\n",
       "    </tr>\n",
       "    <tr>\n",
       "      <th>4</th>\n",
       "      <td>1850</td>\n",
       "      <td>10</td>\n",
       "      <td>1</td>\n",
       "      <td>1260099</td>\n",
       "    </tr>\n",
       "  </tbody>\n",
       "</table>\n",
       "</div>"
      ],
      "text/plain": [
       "   year  age  sex   people\n",
       "0  1850    0    1  1483789\n",
       "1  1850    0    2  1450376\n",
       "2  1850    5    1  1411067\n",
       "3  1850    5    2  1359668\n",
       "4  1850   10    1  1260099"
      ]
     },
     "execution_count": 15,
     "metadata": {},
     "output_type": "execute_result"
    }
   ],
   "source": [
    "import altair as alt\n",
    "from vega_datasets import data\n",
    "\n",
    "source = data.population()\n",
    "source.head()\n",
    "\n",
    "# alt.Chart(source).mark_line().encode(\n",
    "#     x='year:O',\n",
    "#     y=alt.Y(\n",
    "#         'sum(people)',\n",
    "#         scale=alt.Scale(type=\"log\")  # Here the scale is applied\n",
    "#     )\n",
    "# )"
   ]
  },
  {
   "cell_type": "code",
   "execution_count": null,
   "metadata": {},
   "outputs": [],
   "source": []
  }
 ],
 "metadata": {
  "kernelspec": {
   "display_name": "Python 3.10.6 ('idc')",
   "language": "python",
   "name": "python3"
  },
  "language_info": {
   "codemirror_mode": {
    "name": "ipython",
    "version": 3
   },
   "file_extension": ".py",
   "mimetype": "text/x-python",
   "name": "python",
   "nbconvert_exporter": "python",
   "pygments_lexer": "ipython3",
   "version": "3.10.6"
  },
  "orig_nbformat": 4,
  "vscode": {
   "interpreter": {
    "hash": "c1ca27c3fbc5ac34505981d4e16de0c8f6fa775d848accd19ce1dd28f6f53f31"
   }
  }
 },
 "nbformat": 4,
 "nbformat_minor": 2
}
