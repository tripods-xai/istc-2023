{
 "cells": [
  {
   "cell_type": "code",
   "execution_count": null,
   "metadata": {},
   "outputs": [],
   "source": [
    "from typing import Callable, List, Dict\n",
    "from sklearn.model_selection import ParameterGrid\n",
    "import torch\n",
    "from pprint import pprint\n",
    "\n",
    "from src.utils import DeviceManager\n",
    "from src.interleavers import FixedPermuteInterleaver\n",
    "\n",
    "from src.encoders import *\n",
    "\n",
    "MANAGER = DeviceManager(seed=1234)"
   ]
  },
  {
   "cell_type": "code",
   "execution_count": null,
   "metadata": {},
   "outputs": [],
   "source": [
    "def generate_interleaver(block_len: int, interleaver_base_seed: int):\n",
    "    permutation = torch.randperm(\n",
    "        block_len,\n",
    "        generator=torch.Generator(device=\"cpu\").manual_seed(interleaver_base_seed),\n",
    "        device=\"cpu\",\n",
    "    ).to(MANAGER.device)\n",
    "    interleaver = FixedPermuteInterleaver(\n",
    "        input_size=block_len, device_manager=MANAGER, permutation=permutation\n",
    "    )\n",
    "    return interleaver\n",
    "\n",
    "def get_tree_width_report(\n",
    "    block_lens: List[int], \n",
    "    encoder_factories: Dict[str, Callable[[int, DeviceManager, FixedPermuteInterleaver], Encoder]], \n",
    "    elimination_tries=300, \n",
    "    interleaver_base_seed=108493\n",
    "):\n",
    "    run_settings = list(ParameterGrid({\"encoder\": list(encoder_factories.keys()), \"block_len\": block_lens}))\n",
    "    results = []\n",
    "    for i, run_params in enumerate(run_settings):\n",
    "        print(f\"Run {i+1}/{len(run_settings)}\")\n",
    "        encoder_name = run_params[\"encoder\"]\n",
    "        encoder_factory = encoder_factories[encoder_name]\n",
    "        block_len = run_params[\"block_len\"]\n",
    "        interleaver = generate_interleaver(block_len=block_len, interleaver_base_seed=interleaver_base_seed)\n",
    "        encoder = encoder_factory(block_len, device_manager=MANAGER, interleaver=interleaver)\n",
    "        res = encoder.dependency_graph().with_elimination_ordering(sample_thresh=3, tries=elimination_tries).factor_width\n",
    "        results.append({\"encoder\": encoder_name, \"block_len\": block_len, \"factor_width\": res})\n",
    "    return sorted(results, key=lambda d: (d[\"encoder\"], d[\"block_len\"]))\n",
    "    "
   ]
  },
  {
   "cell_type": "code",
   "execution_count": null,
   "metadata": {},
   "outputs": [],
   "source": [
    "block_lens = [5, 8, 11, 14, 20, 30, 40, 50, 60, 70, 80]\n",
    "encoders = {\n",
    "    turboae_binary_exact_nobd.__name__: turboae_binary_exact_nobd\n",
    "}\n",
    "report_tae = get_tree_width_report(block_lens=block_lens, encoder_factories=encoders)\n",
    "pprint(report_tae)"
   ]
  },
  {
   "cell_type": "code",
   "execution_count": null,
   "metadata": {},
   "outputs": [],
   "source": [
    "block_lens = [5, 8, 11, 14, 20, 30, 40, 50, 60, 70, 80]\n",
    "encoders = {\n",
    "    turbo_random1_nonsys.__name__: turbo_random1_nonsys,\n",
    "    turbo_random2_nonsys.__name__: turbo_random2_nonsys,\n",
    "    turbo_random3_nonsys.__name__: turbo_random3_nonsys,\n",
    "    turbo_random4_nonsys.__name__: turbo_random4_nonsys,\n",
    "    turbo_random5_nonsys.__name__: turbo_random5_nonsys\n",
    "}\n",
    "report = get_tree_width_report(block_lens=block_lens, encoder_factories=encoders)\n",
    "pprint(report)"
   ]
  },
  {
   "cell_type": "code",
   "execution_count": null,
   "metadata": {},
   "outputs": [],
   "source": [
    "block_lens = [5, 8, 11, 14, 20, 30, 40, 50, 60, 70, 80]\n",
    "encoders = {\n",
    "    turbo_random1_nonsys.__name__: turbo_random1_nonsys,\n",
    "    turbo_random2_nonsys.__name__: turbo_random2_nonsys,\n",
    "    turbo_random3_nonsys.__name__: turbo_random3_nonsys,\n",
    "    turbo_random4_nonsys.__name__: turbo_random4_nonsys,\n",
    "    turbo_random5_nonsys.__name__: turbo_random5_nonsys\n",
    "}\n",
    "report = get_tree_width_report(block_lens=block_lens, encoder_factories=encoders)\n",
    "pprint(report)"
   ]
  },
  {
   "cell_type": "code",
   "execution_count": null,
   "metadata": {},
   "outputs": [],
   "source": [
    "pprint(report)"
   ]
  },
  {
   "cell_type": "code",
   "execution_count": null,
   "metadata": {},
   "outputs": [],
   "source": [
    "block_lens = [30, 40, 50]\n",
    "encoders = {\n",
    "    tae_turbo_approximated_nonsys1.__name__: tae_turbo_approximated_nonsys1,\n",
    "    tae_turbo_approximated_nonsys2.__name__: tae_turbo_approximated_nonsys2,\n",
    "    tae_turbo_approximated_nonsys3.__name__: tae_turbo_approximated_nonsys3,\n",
    "    tae_turbo_approximated_nonsys4.__name__: tae_turbo_approximated_nonsys4,\n",
    "}\n",
    "report_approx = get_tree_width_report(block_lens=block_lens, encoder_factories=encoders)\n",
    "pprint(report_approx)"
   ]
  }
 ],
 "metadata": {
  "kernelspec": {
   "display_name": "idc",
   "language": "python",
   "name": "python3"
  },
  "language_info": {
   "codemirror_mode": {
    "name": "ipython",
    "version": 3
   },
   "file_extension": ".py",
   "mimetype": "text/x-python",
   "name": "python",
   "nbconvert_exporter": "python",
   "pygments_lexer": "ipython3",
   "version": "3.10.8"
  },
  "orig_nbformat": 4
 },
 "nbformat": 4,
 "nbformat_minor": 2
}
