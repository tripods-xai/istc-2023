{
 "cells": [
  {
   "cell_type": "code",
   "execution_count": 2,
   "metadata": {},
   "outputs": [],
   "source": [
    "from src.experiments import load_interleaver\n",
    "from src.graphs import (\n",
    "    nonrecursive_turbo_graph,\n",
    ")\n",
    "from src.utils import DEFAULT_DEVICE_MANAGER\n",
    "\n",
    "interleaver_base_seed = 56976\n",
    "elimination_seed = 67841"
   ]
  },
  {
   "cell_type": "code",
   "execution_count": 5,
   "metadata": {},
   "outputs": [
    {
     "name": "stdout",
     "output_type": "stream",
     "text": [
      "Delay: 4\n",
      "67841\n"
     ]
    },
    {
     "name": "stderr",
     "output_type": "stream",
     "text": [
      "100%|██████████| 10/10 [00:01<00:00,  6.80it/s, best=23]\n"
     ]
    }
   ],
   "source": [
    "window = 9\n",
    "delay = (window - 1) - ((window - 1) // 2)\n",
    "block_len = 40\n",
    "print(f\"Delay: {delay}\")\n",
    "\n",
    "interleaver = load_interleaver(interleaver_type=\"fixed\", block_len=block_len, manager=DEFAULT_DEVICE_MANAGER, interleaver_base_seed=interleaver_base_seed)\n",
    "\n",
    "nt_inference_graph = nonrecursive_turbo_graph(interleaver.permutation, window=window, delay=delay) \\\n",
    "    .with_elimination_ordering(sample_thresh=3, tries=10, seed=elimination_seed)"
   ]
  },
  {
   "cell_type": "code",
   "execution_count": null,
   "metadata": {},
   "outputs": [],
   "source": []
  }
 ],
 "metadata": {
  "kernelspec": {
   "display_name": "idc",
   "language": "python",
   "name": "python3"
  },
  "language_info": {
   "codemirror_mode": {
    "name": "ipython",
    "version": 3
   },
   "file_extension": ".py",
   "mimetype": "text/x-python",
   "name": "python",
   "nbconvert_exporter": "python",
   "pygments_lexer": "ipython3",
   "version": "3.10.8"
  },
  "orig_nbformat": 4
 },
 "nbformat": 4,
 "nbformat_minor": 2
}
